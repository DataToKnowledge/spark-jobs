{
 "cells": [
  {
   "cell_type": "code",
   "execution_count": 1,
   "metadata": {
    "collapsed": true
   },
   "outputs": [],
   "source": [
    "from kafka import KafkaConsumer, KafkaProducer"
   ]
  },
  {
   "cell_type": "code",
   "execution_count": 2,
   "metadata": {
    "collapsed": true
   },
   "outputs": [],
   "source": [
    "servers = '192.168.99.100:9092'"
   ]
  },
  {
   "cell_type": "code",
   "execution_count": 3,
   "metadata": {
    "collapsed": false
   },
   "outputs": [
    {
     "name": "stderr",
     "output_type": "stream",
     "text": [
      "WARNING:kafka.cluster:No broker metadata found in MetadataResponse\n",
      "WARNING:kafka.conn:Kafka 0.8.2 quirk -- GroupCoordinatorResponse coorelation id does not match request. This should go away once at least one topic has been initialized on the broker\n"
     ]
    }
   ],
   "source": [
    "producer = KafkaProducer(bootstrap_servers=servers)"
   ]
  },
  {
   "cell_type": "code",
   "execution_count": 4,
   "metadata": {
    "collapsed": false
   },
   "outputs": [
    {
     "data": {
      "text/plain": [
       "{'acks': 1,\n",
       " 'api_version': (0, 8, 2),\n",
       " 'batch_size': 16384,\n",
       " 'bootstrap_servers': '192.168.99.100:9092',\n",
       " 'buffer_memory': 33554432,\n",
       " 'client_id': 'kafka-python-producer-1',\n",
       " 'compression_type': None,\n",
       " 'connections_max_idle_ms': 600000,\n",
       " 'key_serializer': None,\n",
       " 'linger_ms': 0,\n",
       " 'max_block_ms': 60000,\n",
       " 'max_in_flight_requests_per_connection': 5,\n",
       " 'max_request_size': 1048576,\n",
       " 'metadata_max_age_ms': 300000,\n",
       " 'partitioner': <kafka.partitioner.default.DefaultPartitioner at 0x1066d5898>,\n",
       " 'receive_buffer_bytes': None,\n",
       " 'reconnect_backoff_ms': 50,\n",
       " 'request_timeout_ms': 30000,\n",
       " 'retries': 0,\n",
       " 'retry_backoff_ms': 100,\n",
       " 'send_buffer_bytes': None,\n",
       " 'value_serializer': None}"
      ]
     },
     "execution_count": 4,
     "metadata": {},
     "output_type": "execute_result"
    }
   ],
   "source": [
    "producer.config"
   ]
  },
  {
   "cell_type": "code",
   "execution_count": 5,
   "metadata": {
    "collapsed": false
   },
   "outputs": [],
   "source": [
    "for i in range(100):\n",
    "    producer.send('test', key=b'foo', value=b'bar')"
   ]
  },
  {
   "cell_type": "code",
   "execution_count": 6,
   "metadata": {
    "collapsed": true
   },
   "outputs": [],
   "source": [
    "producer.close()"
   ]
  },
  {
   "cell_type": "code",
   "execution_count": 3,
   "metadata": {
    "collapsed": false
   },
   "outputs": [],
   "source": [
    "consumer = KafkaConsumer('feed_items', bootstrap_servers=servers)"
   ]
  },
  {
   "cell_type": "code",
   "execution_count": null,
   "metadata": {
    "collapsed": false
   },
   "outputs": [],
   "source": [
    "for msg in consumer:\n",
    "    print(msg)"
   ]
  },
  {
   "cell_type": "code",
   "execution_count": null,
   "metadata": {
    "collapsed": true
   },
   "outputs": [],
   "source": []
  }
 ],
 "metadata": {
  "kernelspec": {
   "display_name": "Python 3",
   "language": "python",
   "name": "python3"
  },
  "language_info": {
   "codemirror_mode": {
    "name": "ipython",
    "version": 3
   },
   "file_extension": ".py",
   "mimetype": "text/x-python",
   "name": "python",
   "nbconvert_exporter": "python",
   "pygments_lexer": "ipython3",
   "version": "3.5.1"
  }
 },
 "nbformat": 4,
 "nbformat_minor": 0
}
